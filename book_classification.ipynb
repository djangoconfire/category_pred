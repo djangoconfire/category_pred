{
 "cells": [
  {
   "cell_type": "code",
   "execution_count": 17,
   "metadata": {},
   "outputs": [],
   "source": [
    "import pandas as pd\n",
    "import numpy as np\n",
    "from sklearn.feature_extraction.text import CountVectorizer, TfidfVectorizer"
   ]
  },
  {
   "cell_type": "code",
   "execution_count": 18,
   "metadata": {},
   "outputs": [
    {
     "data": {
      "text/html": [
       "<div>\n",
       "<style scoped>\n",
       "    .dataframe tbody tr th:only-of-type {\n",
       "        vertical-align: middle;\n",
       "    }\n",
       "\n",
       "    .dataframe tbody tr th {\n",
       "        vertical-align: top;\n",
       "    }\n",
       "\n",
       "    .dataframe thead th {\n",
       "        text-align: right;\n",
       "    }\n",
       "</style>\n",
       "<table border=\"1\" class=\"dataframe\">\n",
       "  <thead>\n",
       "    <tr style=\"text-align: right;\">\n",
       "      <th></th>\n",
       "      <th>Title</th>\n",
       "      <th>Category</th>\n",
       "      <th>SubCategory</th>\n",
       "    </tr>\n",
       "  </thead>\n",
       "  <tbody>\n",
       "    <tr>\n",
       "      <th>0</th>\n",
       "      <td>Bioinformatics: The Machine Learning Approach</td>\n",
       "      <td>Engineering</td>\n",
       "      <td>BioTechnology</td>\n",
       "    </tr>\n",
       "    <tr>\n",
       "      <th>1</th>\n",
       "      <td>Fundamentals of Inorganic Chemistry: An Introd...</td>\n",
       "      <td>Mathematics &amp; Sciences</td>\n",
       "      <td>Chemistry</td>\n",
       "    </tr>\n",
       "    <tr>\n",
       "      <th>2</th>\n",
       "      <td>The Construction of Buildings, Volume 1</td>\n",
       "      <td>Engineering</td>\n",
       "      <td>Civil Engineering</td>\n",
       "    </tr>\n",
       "    <tr>\n",
       "      <th>3</th>\n",
       "      <td>Combinatorics: Theory and Applications</td>\n",
       "      <td>Mathematics &amp; Sciences</td>\n",
       "      <td>Mathematics &amp; Statistics</td>\n",
       "    </tr>\n",
       "    <tr>\n",
       "      <th>4</th>\n",
       "      <td>Basic Principle Measurements &amp; Control System</td>\n",
       "      <td>Engineering</td>\n",
       "      <td>Mechanical Engineering</td>\n",
       "    </tr>\n",
       "    <tr>\n",
       "      <th>5</th>\n",
       "      <td>Software Testing</td>\n",
       "      <td>Engineering</td>\n",
       "      <td>Computer Science Engineering</td>\n",
       "    </tr>\n",
       "    <tr>\n",
       "      <th>6</th>\n",
       "      <td>Distributed Computing:  Principles, Algorithms...</td>\n",
       "      <td>Engineering</td>\n",
       "      <td>Computer Science Engineering</td>\n",
       "    </tr>\n",
       "    <tr>\n",
       "      <th>7</th>\n",
       "      <td>Quantum Mechanics for Scientists and Engineers</td>\n",
       "      <td>Mathematics &amp; Sciences</td>\n",
       "      <td>Physics</td>\n",
       "    </tr>\n",
       "    <tr>\n",
       "      <th>8</th>\n",
       "      <td>Introduction to Information Retrieval</td>\n",
       "      <td>Engineering</td>\n",
       "      <td>Computer Science Engineering</td>\n",
       "    </tr>\n",
       "    <tr>\n",
       "      <th>9</th>\n",
       "      <td>KEY TO MECHANICS OF STRUCTURES VOL. I</td>\n",
       "      <td>Engineering</td>\n",
       "      <td>Civil Engineering</td>\n",
       "    </tr>\n",
       "  </tbody>\n",
       "</table>\n",
       "</div>"
      ],
      "text/plain": [
       "                                               Title                Category  \\\n",
       "0      Bioinformatics: The Machine Learning Approach             Engineering   \n",
       "1  Fundamentals of Inorganic Chemistry: An Introd...  Mathematics & Sciences   \n",
       "2            The Construction of Buildings, Volume 1             Engineering   \n",
       "3             Combinatorics: Theory and Applications  Mathematics & Sciences   \n",
       "4      Basic Principle Measurements & Control System             Engineering   \n",
       "5                                   Software Testing             Engineering   \n",
       "6  Distributed Computing:  Principles, Algorithms...             Engineering   \n",
       "7     Quantum Mechanics for Scientists and Engineers  Mathematics & Sciences   \n",
       "8              Introduction to Information Retrieval             Engineering   \n",
       "9              KEY TO MECHANICS OF STRUCTURES VOL. I             Engineering   \n",
       "\n",
       "                    SubCategory  \n",
       "0                 BioTechnology  \n",
       "1                     Chemistry  \n",
       "2             Civil Engineering  \n",
       "3      Mathematics & Statistics  \n",
       "4        Mechanical Engineering  \n",
       "5  Computer Science Engineering  \n",
       "6  Computer Science Engineering  \n",
       "7                       Physics  \n",
       "8  Computer Science Engineering  \n",
       "9             Civil Engineering  "
      ]
     },
     "execution_count": 18,
     "metadata": {},
     "output_type": "execute_result"
    }
   ],
   "source": [
    "# load dataset\n",
    "data_path = \"data/training_data.csv\"\n",
    "d_set = pd.read_csv(data_path,names=[\"Title\",'Category','SubCategory'])\n",
    "d_set.head(10) # first ten records"
   ]
  },
  {
   "cell_type": "code",
   "execution_count": 19,
   "metadata": {},
   "outputs": [
    {
     "data": {
      "text/plain": [
       "(51641, 3)"
      ]
     },
     "execution_count": 19,
     "metadata": {},
     "output_type": "execute_result"
    }
   ],
   "source": [
    "# examine the shape\n",
    "d_set.shape"
   ]
  },
  {
   "cell_type": "code",
   "execution_count": 20,
   "metadata": {},
   "outputs": [
    {
     "name": "stdout",
     "output_type": "stream",
     "text": [
      "(51641,)\n",
      "(51641,)\n",
      "(51641,)\n"
     ]
    }
   ],
   "source": [
    "# define X and y for using with countVectorizer\n",
    "X = d_set['Title'] # 1 - Dimensiona;\n",
    "y1 = d_set['Category'] #  Dimensional\n",
    "y2 = d_set['SubCategory'] #  Dimensional\n",
    "print X.shape\n",
    "print y1.shape\n",
    "print y2.shape"
   ]
  },
  {
   "cell_type": "code",
   "execution_count": 21,
   "metadata": {},
   "outputs": [
    {
     "name": "stdout",
     "output_type": "stream",
     "text": [
      "(38730,) (12911,)\n",
      "Category\n",
      "((38730,), (12911,))\n",
      "SubCategory\n",
      "((38730,), (12911,))\n"
     ]
    }
   ],
   "source": [
    "# spllit X and y into training and testing set\n",
    "from sklearn.cross_validation import train_test_split\n",
    "X_train , X_test , y1_train, y1_test = train_test_split(X, y1, random_state=1)\n",
    "X_train , X_test , y2_train, y2_test = train_test_split(X, y2, random_state=1)\n",
    "print X_train.shape,X_test.shape\n",
    "print \"Category\"\n",
    "print (y1_train.shape,y1_test.shape)\n",
    "print \"SubCategory\"\n",
    "print (y1_train.shape,y1_test.shape)"
   ]
  },
  {
   "cell_type": "markdown",
   "metadata": {},
   "source": [
    "### Vectorizing Our Dataset"
   ]
  },
  {
   "cell_type": "code",
   "execution_count": 22,
   "metadata": {},
   "outputs": [],
   "source": [
    "# instatntiate the vectorizer\n",
    "vect = CountVectorizer()"
   ]
  },
  {
   "cell_type": "code",
   "execution_count": 23,
   "metadata": {},
   "outputs": [],
   "source": [
    "# Learn training data vocabulary and then use it to create document term matrix\n",
    "vect.fit(X_train)\n",
    "X_train_dtm = vect.transform(X_train)"
   ]
  },
  {
   "cell_type": "code",
   "execution_count": 24,
   "metadata": {},
   "outputs": [
    {
     "data": {
      "text/plain": [
       "<38730x16205 sparse matrix of type '<type 'numpy.int64'>'\n",
       "\twith 211071 stored elements in Compressed Sparse Row format>"
      ]
     },
     "execution_count": 24,
     "metadata": {},
     "output_type": "execute_result"
    }
   ],
   "source": [
    "# examine the document train matrix\n",
    "X_train_dtm"
   ]
  },
  {
   "cell_type": "code",
   "execution_count": 25,
   "metadata": {},
   "outputs": [
    {
     "data": {
      "text/plain": [
       "<12911x16205 sparse matrix of type '<type 'numpy.int64'>'\n",
       "\twith 67675 stored elements in Compressed Sparse Row format>"
      ]
     },
     "execution_count": 25,
     "metadata": {},
     "output_type": "execute_result"
    }
   ],
   "source": [
    "# transform testing data using fitted vocabulary into document term matrix\n",
    "X_test_dtm = vect.transform(X_test)\n",
    "X_test_dtm"
   ]
  },
  {
   "cell_type": "markdown",
   "metadata": {},
   "source": [
    "### Building and Evaluating Model"
   ]
  },
  {
   "cell_type": "code",
   "execution_count": 26,
   "metadata": {},
   "outputs": [],
   "source": [
    "# import and instatiate Multinomial Naive Bayes Model\n",
    "from sklearn.naive_bayes import MultinomialNB\n",
    "from sklearn import metrics\n",
    "nb = MultinomialNB()"
   ]
  },
  {
   "cell_type": "markdown",
   "metadata": {},
   "source": [
    "### Predicting Category"
   ]
  },
  {
   "cell_type": "code",
   "execution_count": 27,
   "metadata": {},
   "outputs": [
    {
     "name": "stdout",
     "output_type": "stream",
     "text": [
      "CPU times: user 179 ms, sys: 0 ns, total: 179 ms\n",
      "Wall time: 178 ms\n"
     ]
    },
    {
     "data": {
      "text/plain": [
       "MultinomialNB(alpha=1.0, class_prior=None, fit_prior=True)"
      ]
     },
     "execution_count": 27,
     "metadata": {},
     "output_type": "execute_result"
    }
   ],
   "source": [
    "# train the models using X_train_dtm and Category - column Vector\n",
    "%time nb.fit(X_train_dtm,y1_train)"
   ]
  },
  {
   "cell_type": "code",
   "execution_count": 28,
   "metadata": {},
   "outputs": [],
   "source": [
    "# make class predictions for X_test_dtm\n",
    "y1_pred_class = nb.predict(X_test_dtm)"
   ]
  },
  {
   "cell_type": "code",
   "execution_count": 29,
   "metadata": {},
   "outputs": [
    {
     "data": {
      "text/plain": [
       "0.83301061110680819"
      ]
     },
     "execution_count": 29,
     "metadata": {},
     "output_type": "execute_result"
    }
   ],
   "source": [
    "# calculate the accuracy of class predictions\n",
    "# y1_test : true values\n",
    "# y1_pred_class - predicted values\n",
    "metrics.accuracy_score(y1_test, y1_pred_class)"
   ]
  },
  {
   "cell_type": "code",
   "execution_count": 30,
   "metadata": {},
   "outputs": [
    {
     "data": {
      "text/plain": [
       "array([[2017,  135,    6,  126,    3,   44,   51,    2],\n",
       "       [ 138, 1518,    2,  190,    1,   26,   16,    2],\n",
       "       [   5,   14,  184,   11,    0,   15,   10,    1],\n",
       "       [  65,  156,    8, 4052,    2,  144,   28,    1],\n",
       "       [  36,   65,    0,    8,  135,    1,    2,    0],\n",
       "       [  75,   46,    1,  337,    0, 1340,   55,    1],\n",
       "       [  54,   21,    3,   67,    1,   43, 1491,    0],\n",
       "       [  44,   52,    0,   22,    0,    3,   17,   18]])"
      ]
     },
     "execution_count": 30,
     "metadata": {},
     "output_type": "execute_result"
    }
   ],
   "source": [
    "# print the confusion matrix\n",
    "metrics.confusion_matrix(y1_test,y1_pred_class)"
   ]
  },
  {
   "cell_type": "code",
   "execution_count": 31,
   "metadata": {},
   "outputs": [],
   "source": [
    "# Testing Category\n",
    "test = [\"The monk Who sold his ferrari\"]\n",
    "test_dtm = vect.transform(test)"
   ]
  },
  {
   "cell_type": "code",
   "execution_count": 32,
   "metadata": {},
   "outputs": [
    {
     "name": "stdout",
     "output_type": "stream",
     "text": [
      "['Arts & Humanities']\n"
     ]
    }
   ],
   "source": [
    "ans = nb.predict(test_dtm.toarray())\n",
    "print ans"
   ]
  },
  {
   "cell_type": "markdown",
   "metadata": {},
   "source": [
    "### Predicting SubCategory"
   ]
  },
  {
   "cell_type": "code",
   "execution_count": 33,
   "metadata": {},
   "outputs": [
    {
     "name": "stdout",
     "output_type": "stream",
     "text": [
      "CPU times: user 330 ms, sys: 35.8 ms, total: 366 ms\n",
      "Wall time: 365 ms\n"
     ]
    },
    {
     "data": {
      "text/plain": [
       "MultinomialNB(alpha=1.0, class_prior=None, fit_prior=True)"
      ]
     },
     "execution_count": 33,
     "metadata": {},
     "output_type": "execute_result"
    }
   ],
   "source": [
    "# train the models using X_train_dtm and Category - column Vector\n",
    "%time nb.fit(X_train_dtm,y2_train)"
   ]
  },
  {
   "cell_type": "code",
   "execution_count": 34,
   "metadata": {},
   "outputs": [],
   "source": [
    "# make class predictions for X_test_dtm\n",
    "y2_pred_class = nb.predict(X_test_dtm)"
   ]
  },
  {
   "cell_type": "code",
   "execution_count": 35,
   "metadata": {},
   "outputs": [
    {
     "data": {
      "text/plain": [
       "0.54976376733018362"
      ]
     },
     "execution_count": 35,
     "metadata": {},
     "output_type": "execute_result"
    }
   ],
   "source": [
    "# calculate the accuracy of class predictions\n",
    "# y2_test : true values\n",
    "# y2_pred_class - predicted values\n",
    "metrics.accuracy_score(y2_test, y2_pred_class)"
   ]
  },
  {
   "cell_type": "code",
   "execution_count": 36,
   "metadata": {},
   "outputs": [
    {
     "data": {
      "text/plain": [
       "array([[69,  0,  0, ...,  0,  0,  0],\n",
       "       [ 0,  2,  0, ...,  0,  0,  0],\n",
       "       [ 0,  0,  0, ...,  0,  0,  0],\n",
       "       ..., \n",
       "       [ 0,  0,  0, ...,  0,  0,  0],\n",
       "       [ 0,  0,  0, ...,  0,  0,  0],\n",
       "       [ 0,  0,  0, ...,  0,  0,  0]])"
      ]
     },
     "execution_count": 36,
     "metadata": {},
     "output_type": "execute_result"
    }
   ],
   "source": [
    "# print the confusion matrix\n",
    "metrics.confusion_matrix(y2_test,y2_pred_class)"
   ]
  },
  {
   "cell_type": "code",
   "execution_count": 37,
   "metadata": {},
   "outputs": [],
   "source": [
    "# Testing SubCategory\n",
    "test = [\"The monk Who sold his ferrari\"]\n",
    "test_dtm = vect.transform(test)"
   ]
  },
  {
   "cell_type": "code",
   "execution_count": 38,
   "metadata": {},
   "outputs": [
    {
     "name": "stdout",
     "output_type": "stream",
     "text": [
      "['Management']\n"
     ]
    }
   ],
   "source": [
    "ans = nb.predict(test_dtm.toarray())\n",
    "print ans"
   ]
  },
  {
   "cell_type": "code",
   "execution_count": null,
   "metadata": {},
   "outputs": [],
   "source": []
  },
  {
   "cell_type": "code",
   "execution_count": null,
   "metadata": {},
   "outputs": [],
   "source": []
  },
  {
   "cell_type": "code",
   "execution_count": null,
   "metadata": {},
   "outputs": [],
   "source": []
  }
 ],
 "metadata": {
  "kernelspec": {
   "display_name": "Python 2",
   "language": "python",
   "name": "python2"
  },
  "language_info": {
   "codemirror_mode": {
    "name": "ipython",
    "version": 2
   },
   "file_extension": ".py",
   "mimetype": "text/x-python",
   "name": "python",
   "nbconvert_exporter": "python",
   "pygments_lexer": "ipython2",
   "version": "2.7.12"
  }
 },
 "nbformat": 4,
 "nbformat_minor": 2
}
